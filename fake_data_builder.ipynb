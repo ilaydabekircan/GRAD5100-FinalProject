{
 "cells": [
  {
   "cell_type": "markdown",
   "id": "fa3ac2de",
   "metadata": {},
   "source": [
    "## GRAD 5100 - Introduction to Data Science\n",
    "\n",
    "### Final Project - Part 1\n",
    "\n",
    "#### Ilayda Bekircan"
   ]
  },
  {
   "cell_type": "markdown",
   "id": "759a0a3d",
   "metadata": {},
   "source": [
    "## Q1"
   ]
  },
  {
   "cell_type": "code",
   "execution_count": 1,
   "id": "ba6e60fc",
   "metadata": {},
   "outputs": [],
   "source": [
    "import pandas as pd\n",
    "import numpy as np\n",
    "import scipy.stats as stats\n",
    "import seaborn as sns"
   ]
  },
  {
   "cell_type": "code",
   "execution_count": 2,
   "id": "8379e030",
   "metadata": {},
   "outputs": [],
   "source": [
    "np.random.seed(1)"
   ]
  },
  {
   "cell_type": "markdown",
   "id": "26ff80f2",
   "metadata": {},
   "source": [
    "- The ID has the form IDxxx where x is a three digit number.\n",
    "- The Group feature is either A, B, or C.\n",
    "- Feature_1 is sampled randomly from a normal distribution with mean 2500, standard deviation 300.\n",
    "- Feature_2 is sampled randomly from a normal distribution with mean 400 and standard deviation 15.\n",
    "- Feature 3 will be implemented later."
   ]
  },
  {
   "cell_type": "code",
   "execution_count": 3,
   "id": "ebbfaa17",
   "metadata": {},
   "outputs": [],
   "source": [
    "df = pd.DataFrame({\n",
    "    'ID': ['ID{:03d}'.format(i) for i in range(101, 901)],\n",
    "    'Group': np.random.choice(['A', 'B', 'C'], size = 800),\n",
    "    'Feature_1': np.random.normal(loc = 2500, scale = 300, size = 800), #loc is the mean and scale is the std\n",
    "    'Feature_2': np.random.normal(loc = 400, scale = 15, size = 800),\n",
    "    'Feature_3': ['0'.format(i) for i in range(1, 801)],\n",
    "})"
   ]
  },
  {
   "cell_type": "code",
   "execution_count": 4,
   "id": "5080723c",
   "metadata": {},
   "outputs": [],
   "source": [
    "#applying formula for each group\n",
    "\n",
    "df.loc[df['Group'] == 'A', 'Formula'] = 3 * 2500 - 5 * 400\n",
    "df.loc[df['Group'] == 'B', 'Formula'] = 2 * 2500\n",
    "df.loc[df['Group'] == 'C', 'Formula'] = -2500 + 400"
   ]
  },
  {
   "cell_type": "code",
   "execution_count": 5,
   "id": "24a50467",
   "metadata": {},
   "outputs": [
    {
     "data": {
      "text/html": [
       "<div>\n",
       "<style scoped>\n",
       "    .dataframe tbody tr th:only-of-type {\n",
       "        vertical-align: middle;\n",
       "    }\n",
       "\n",
       "    .dataframe tbody tr th {\n",
       "        vertical-align: top;\n",
       "    }\n",
       "\n",
       "    .dataframe thead th {\n",
       "        text-align: right;\n",
       "    }\n",
       "</style>\n",
       "<table border=\"1\" class=\"dataframe\">\n",
       "  <thead>\n",
       "    <tr style=\"text-align: right;\">\n",
       "      <th></th>\n",
       "      <th>ID</th>\n",
       "      <th>Group</th>\n",
       "      <th>Feature_1</th>\n",
       "      <th>Feature_2</th>\n",
       "      <th>Feature_3</th>\n",
       "      <th>Formula</th>\n",
       "    </tr>\n",
       "  </thead>\n",
       "  <tbody>\n",
       "    <tr>\n",
       "      <th>0</th>\n",
       "      <td>ID101</td>\n",
       "      <td>B</td>\n",
       "      <td>2932.671943</td>\n",
       "      <td>413.545585</td>\n",
       "      <td>0</td>\n",
       "      <td>5000.0</td>\n",
       "    </tr>\n",
       "    <tr>\n",
       "      <th>1</th>\n",
       "      <td>ID102</td>\n",
       "      <td>A</td>\n",
       "      <td>2760.145818</td>\n",
       "      <td>393.654844</td>\n",
       "      <td>0</td>\n",
       "      <td>5500.0</td>\n",
       "    </tr>\n",
       "    <tr>\n",
       "      <th>2</th>\n",
       "      <td>ID103</td>\n",
       "      <td>A</td>\n",
       "      <td>2392.765598</td>\n",
       "      <td>378.059694</td>\n",
       "      <td>0</td>\n",
       "      <td>5500.0</td>\n",
       "    </tr>\n",
       "    <tr>\n",
       "      <th>3</th>\n",
       "      <td>ID104</td>\n",
       "      <td>B</td>\n",
       "      <td>2725.989116</td>\n",
       "      <td>398.327623</td>\n",
       "      <td>0</td>\n",
       "      <td>5000.0</td>\n",
       "    </tr>\n",
       "    <tr>\n",
       "      <th>4</th>\n",
       "      <td>ID105</td>\n",
       "      <td>B</td>\n",
       "      <td>2652.696728</td>\n",
       "      <td>401.211878</td>\n",
       "      <td>0</td>\n",
       "      <td>5000.0</td>\n",
       "    </tr>\n",
       "    <tr>\n",
       "      <th>...</th>\n",
       "      <td>...</td>\n",
       "      <td>...</td>\n",
       "      <td>...</td>\n",
       "      <td>...</td>\n",
       "      <td>...</td>\n",
       "      <td>...</td>\n",
       "    </tr>\n",
       "    <tr>\n",
       "      <th>795</th>\n",
       "      <td>ID896</td>\n",
       "      <td>C</td>\n",
       "      <td>2426.627326</td>\n",
       "      <td>385.608965</td>\n",
       "      <td>0</td>\n",
       "      <td>-2100.0</td>\n",
       "    </tr>\n",
       "    <tr>\n",
       "      <th>796</th>\n",
       "      <td>ID897</td>\n",
       "      <td>A</td>\n",
       "      <td>2936.391349</td>\n",
       "      <td>429.038191</td>\n",
       "      <td>0</td>\n",
       "      <td>5500.0</td>\n",
       "    </tr>\n",
       "    <tr>\n",
       "      <th>797</th>\n",
       "      <td>ID898</td>\n",
       "      <td>B</td>\n",
       "      <td>2358.714462</td>\n",
       "      <td>402.774189</td>\n",
       "      <td>0</td>\n",
       "      <td>5000.0</td>\n",
       "    </tr>\n",
       "    <tr>\n",
       "      <th>798</th>\n",
       "      <td>ID899</td>\n",
       "      <td>B</td>\n",
       "      <td>2650.914292</td>\n",
       "      <td>378.228709</td>\n",
       "      <td>0</td>\n",
       "      <td>5000.0</td>\n",
       "    </tr>\n",
       "    <tr>\n",
       "      <th>799</th>\n",
       "      <td>ID900</td>\n",
       "      <td>A</td>\n",
       "      <td>2139.561066</td>\n",
       "      <td>395.233912</td>\n",
       "      <td>0</td>\n",
       "      <td>5500.0</td>\n",
       "    </tr>\n",
       "  </tbody>\n",
       "</table>\n",
       "<p>800 rows × 6 columns</p>\n",
       "</div>"
      ],
      "text/plain": [
       "        ID Group    Feature_1   Feature_2 Feature_3  Formula\n",
       "0    ID101     B  2932.671943  413.545585         0   5000.0\n",
       "1    ID102     A  2760.145818  393.654844         0   5500.0\n",
       "2    ID103     A  2392.765598  378.059694         0   5500.0\n",
       "3    ID104     B  2725.989116  398.327623         0   5000.0\n",
       "4    ID105     B  2652.696728  401.211878         0   5000.0\n",
       "..     ...   ...          ...         ...       ...      ...\n",
       "795  ID896     C  2426.627326  385.608965         0  -2100.0\n",
       "796  ID897     A  2936.391349  429.038191         0   5500.0\n",
       "797  ID898     B  2358.714462  402.774189         0   5000.0\n",
       "798  ID899     B  2650.914292  378.228709         0   5000.0\n",
       "799  ID900     A  2139.561066  395.233912         0   5500.0\n",
       "\n",
       "[800 rows x 6 columns]"
      ]
     },
     "execution_count": 5,
     "metadata": {},
     "output_type": "execute_result"
    }
   ],
   "source": [
    "df"
   ]
  },
  {
   "cell_type": "code",
   "execution_count": 6,
   "id": "cc6ba876",
   "metadata": {},
   "outputs": [],
   "source": [
    "df['Feature_3'] = df['Formula'] + np.random.normal(loc = 0, scale = 12, size = 800)"
   ]
  },
  {
   "cell_type": "code",
   "execution_count": 7,
   "id": "8c8d8235",
   "metadata": {},
   "outputs": [
    {
     "data": {
      "text/html": [
       "<div>\n",
       "<style scoped>\n",
       "    .dataframe tbody tr th:only-of-type {\n",
       "        vertical-align: middle;\n",
       "    }\n",
       "\n",
       "    .dataframe tbody tr th {\n",
       "        vertical-align: top;\n",
       "    }\n",
       "\n",
       "    .dataframe thead th {\n",
       "        text-align: right;\n",
       "    }\n",
       "</style>\n",
       "<table border=\"1\" class=\"dataframe\">\n",
       "  <thead>\n",
       "    <tr style=\"text-align: right;\">\n",
       "      <th></th>\n",
       "      <th>ID</th>\n",
       "      <th>Group</th>\n",
       "      <th>Feature_1</th>\n",
       "      <th>Feature_2</th>\n",
       "      <th>Feature_3</th>\n",
       "      <th>Formula</th>\n",
       "    </tr>\n",
       "  </thead>\n",
       "  <tbody>\n",
       "    <tr>\n",
       "      <th>0</th>\n",
       "      <td>ID101</td>\n",
       "      <td>B</td>\n",
       "      <td>2932.671943</td>\n",
       "      <td>413.545585</td>\n",
       "      <td>5003.631701</td>\n",
       "      <td>5000.0</td>\n",
       "    </tr>\n",
       "    <tr>\n",
       "      <th>1</th>\n",
       "      <td>ID102</td>\n",
       "      <td>A</td>\n",
       "      <td>2760.145818</td>\n",
       "      <td>393.654844</td>\n",
       "      <td>5499.932422</td>\n",
       "      <td>5500.0</td>\n",
       "    </tr>\n",
       "    <tr>\n",
       "      <th>2</th>\n",
       "      <td>ID103</td>\n",
       "      <td>A</td>\n",
       "      <td>2392.765598</td>\n",
       "      <td>378.059694</td>\n",
       "      <td>5499.940383</td>\n",
       "      <td>5500.0</td>\n",
       "    </tr>\n",
       "    <tr>\n",
       "      <th>3</th>\n",
       "      <td>ID104</td>\n",
       "      <td>B</td>\n",
       "      <td>2725.989116</td>\n",
       "      <td>398.327623</td>\n",
       "      <td>5012.666309</td>\n",
       "      <td>5000.0</td>\n",
       "    </tr>\n",
       "    <tr>\n",
       "      <th>4</th>\n",
       "      <td>ID105</td>\n",
       "      <td>B</td>\n",
       "      <td>2652.696728</td>\n",
       "      <td>401.211878</td>\n",
       "      <td>5010.972291</td>\n",
       "      <td>5000.0</td>\n",
       "    </tr>\n",
       "    <tr>\n",
       "      <th>...</th>\n",
       "      <td>...</td>\n",
       "      <td>...</td>\n",
       "      <td>...</td>\n",
       "      <td>...</td>\n",
       "      <td>...</td>\n",
       "      <td>...</td>\n",
       "    </tr>\n",
       "    <tr>\n",
       "      <th>795</th>\n",
       "      <td>ID896</td>\n",
       "      <td>C</td>\n",
       "      <td>2426.627326</td>\n",
       "      <td>385.608965</td>\n",
       "      <td>-2087.511540</td>\n",
       "      <td>-2100.0</td>\n",
       "    </tr>\n",
       "    <tr>\n",
       "      <th>796</th>\n",
       "      <td>ID897</td>\n",
       "      <td>A</td>\n",
       "      <td>2936.391349</td>\n",
       "      <td>429.038191</td>\n",
       "      <td>5503.612305</td>\n",
       "      <td>5500.0</td>\n",
       "    </tr>\n",
       "    <tr>\n",
       "      <th>797</th>\n",
       "      <td>ID898</td>\n",
       "      <td>B</td>\n",
       "      <td>2358.714462</td>\n",
       "      <td>402.774189</td>\n",
       "      <td>5014.614749</td>\n",
       "      <td>5000.0</td>\n",
       "    </tr>\n",
       "    <tr>\n",
       "      <th>798</th>\n",
       "      <td>ID899</td>\n",
       "      <td>B</td>\n",
       "      <td>2650.914292</td>\n",
       "      <td>378.228709</td>\n",
       "      <td>5019.014494</td>\n",
       "      <td>5000.0</td>\n",
       "    </tr>\n",
       "    <tr>\n",
       "      <th>799</th>\n",
       "      <td>ID900</td>\n",
       "      <td>A</td>\n",
       "      <td>2139.561066</td>\n",
       "      <td>395.233912</td>\n",
       "      <td>5506.076951</td>\n",
       "      <td>5500.0</td>\n",
       "    </tr>\n",
       "  </tbody>\n",
       "</table>\n",
       "<p>800 rows × 6 columns</p>\n",
       "</div>"
      ],
      "text/plain": [
       "        ID Group    Feature_1   Feature_2    Feature_3  Formula\n",
       "0    ID101     B  2932.671943  413.545585  5003.631701   5000.0\n",
       "1    ID102     A  2760.145818  393.654844  5499.932422   5500.0\n",
       "2    ID103     A  2392.765598  378.059694  5499.940383   5500.0\n",
       "3    ID104     B  2725.989116  398.327623  5012.666309   5000.0\n",
       "4    ID105     B  2652.696728  401.211878  5010.972291   5000.0\n",
       "..     ...   ...          ...         ...          ...      ...\n",
       "795  ID896     C  2426.627326  385.608965 -2087.511540  -2100.0\n",
       "796  ID897     A  2936.391349  429.038191  5503.612305   5500.0\n",
       "797  ID898     B  2358.714462  402.774189  5014.614749   5000.0\n",
       "798  ID899     B  2650.914292  378.228709  5019.014494   5000.0\n",
       "799  ID900     A  2139.561066  395.233912  5506.076951   5500.0\n",
       "\n",
       "[800 rows x 6 columns]"
      ]
     },
     "execution_count": 7,
     "metadata": {},
     "output_type": "execute_result"
    }
   ],
   "source": [
    "df"
   ]
  },
  {
   "cell_type": "code",
   "execution_count": 8,
   "id": "ddbd98b6",
   "metadata": {},
   "outputs": [
    {
     "data": {
      "text/plain": [
       "<Axes: ylabel='Count'>"
      ]
     },
     "execution_count": 8,
     "metadata": {},
     "output_type": "execute_result"
    },
    {
     "data": {
      "image/png": "[encoded data removed]",
      "text/plain": [
       "<Figure size 640x480 with 1 Axes>"
      ]
     },
     "metadata": {},
     "output_type": "display_data"
    }
   ],
   "source": [
    "# the difference between Feature_3 and the formula is a normally distributed for group A\n",
    "\n",
    "sns.histplot(df['Formula'] - df.loc[df['Group'] == 'A', 'Feature_3'], color='orange')"
   ]
  },
  {
   "cell_type": "code",
   "execution_count": 9,
   "id": "6b5695b0",
   "metadata": {},
   "outputs": [
    {
     "data": {
      "text/plain": [
       "<Axes: ylabel='Count'>"
      ]
     },
     "execution_count": 9,
     "metadata": {},
     "output_type": "execute_result"
    },
    {
     "data": {
      "image/png": "[encoded data removed]",
      "text/plain": [
       "<Figure size 640x480 with 1 Axes>"
      ]
     },
     "metadata": {},
     "output_type": "display_data"
    }
   ],
   "source": [
    "# the difference between Feature_3 and the formula is a normally distributed for group B\n",
    "\n",
    "sns.histplot(df['Formula'] - df.loc[df['Group'] == 'B', 'Feature_3'], color='pink')"
   ]
  },
  {
   "cell_type": "code",
   "execution_count": 10,
   "id": "1fd516aa",
   "metadata": {},
   "outputs": [
    {
     "data": {
      "text/plain": [
       "<Axes: ylabel='Count'>"
      ]
     },
     "execution_count": 10,
     "metadata": {},
     "output_type": "execute_result"
    },
    {
     "data": {
      "image/png": "[encoded data removed]",
      "text/plain": [
       "<Figure size 640x480 with 1 Axes>"
      ]
     },
     "metadata": {},
     "output_type": "display_data"
    }
   ],
   "source": [
    "# the difference between Feature_3 and the formula is a normally distributed for group C\n",
    "\n",
    "sns.histplot(df['Formula'] - df.loc[df['Group'] == 'C', 'Feature_3'], color='green')"
   ]
  },
  {
   "cell_type": "code",
   "execution_count": 11,
   "id": "25ada6c1",
   "metadata": {},
   "outputs": [
    {
     "data": {
      "text/plain": [
       "11.886865178742696"
      ]
     },
     "execution_count": 11,
     "metadata": {},
     "output_type": "execute_result"
    }
   ],
   "source": [
    "# standard deviation of the difference between formula and Feature_3 is approximately 12\n",
    "np.sqrt(np.var(df['Formula'] - df['Feature_3']))"
   ]
  },
  {
   "cell_type": "code",
   "execution_count": 12,
   "id": "cde0ff8d",
   "metadata": {},
   "outputs": [
    {
     "data": {
      "text/plain": [
       "<Axes: ylabel='Count'>"
      ]
     },
     "execution_count": 12,
     "metadata": {},
     "output_type": "execute_result"
    },
    {
     "data": {
      "image/png": "[encoded data removed]",
      "text/plain": [
       "<Figure size 640x480 with 1 Axes>"
      ]
     },
     "metadata": {},
     "output_type": "display_data"
    }
   ],
   "source": [
    "# the difference between Feature_3 and the formula is a normally distributed for all data\n",
    "\n",
    "sns.histplot(df['Formula'] - df['Feature_3'], color='red')"
   ]
  },
  {
   "cell_type": "code",
   "execution_count": 13,
   "id": "a1c209ea",
   "metadata": {},
   "outputs": [
    {
     "data": {
      "text/html": [
       "<div>\n",
       "<style scoped>\n",
       "    .dataframe tbody tr th:only-of-type {\n",
       "        vertical-align: middle;\n",
       "    }\n",
       "\n",
       "    .dataframe tbody tr th {\n",
       "        vertical-align: top;\n",
       "    }\n",
       "\n",
       "    .dataframe thead th {\n",
       "        text-align: right;\n",
       "    }\n",
       "</style>\n",
       "<table border=\"1\" class=\"dataframe\">\n",
       "  <thead>\n",
       "    <tr style=\"text-align: right;\">\n",
       "      <th></th>\n",
       "      <th>ID</th>\n",
       "      <th>Group</th>\n",
       "      <th>Feature_1</th>\n",
       "      <th>Feature_2</th>\n",
       "      <th>Feature_3</th>\n",
       "    </tr>\n",
       "  </thead>\n",
       "  <tbody>\n",
       "    <tr>\n",
       "      <th>0</th>\n",
       "      <td>ID101</td>\n",
       "      <td>B</td>\n",
       "      <td>2932.671943</td>\n",
       "      <td>413.545585</td>\n",
       "      <td>5003.631701</td>\n",
       "    </tr>\n",
       "    <tr>\n",
       "      <th>1</th>\n",
       "      <td>ID102</td>\n",
       "      <td>A</td>\n",
       "      <td>2760.145818</td>\n",
       "      <td>393.654844</td>\n",
       "      <td>5499.932422</td>\n",
       "    </tr>\n",
       "    <tr>\n",
       "      <th>2</th>\n",
       "      <td>ID103</td>\n",
       "      <td>A</td>\n",
       "      <td>2392.765598</td>\n",
       "      <td>378.059694</td>\n",
       "      <td>5499.940383</td>\n",
       "    </tr>\n",
       "    <tr>\n",
       "      <th>3</th>\n",
       "      <td>ID104</td>\n",
       "      <td>B</td>\n",
       "      <td>2725.989116</td>\n",
       "      <td>398.327623</td>\n",
       "      <td>5012.666309</td>\n",
       "    </tr>\n",
       "    <tr>\n",
       "      <th>4</th>\n",
       "      <td>ID105</td>\n",
       "      <td>B</td>\n",
       "      <td>2652.696728</td>\n",
       "      <td>401.211878</td>\n",
       "      <td>5010.972291</td>\n",
       "    </tr>\n",
       "    <tr>\n",
       "      <th>...</th>\n",
       "      <td>...</td>\n",
       "      <td>...</td>\n",
       "      <td>...</td>\n",
       "      <td>...</td>\n",
       "      <td>...</td>\n",
       "    </tr>\n",
       "    <tr>\n",
       "      <th>795</th>\n",
       "      <td>ID896</td>\n",
       "      <td>C</td>\n",
       "      <td>2426.627326</td>\n",
       "      <td>385.608965</td>\n",
       "      <td>-2087.511540</td>\n",
       "    </tr>\n",
       "    <tr>\n",
       "      <th>796</th>\n",
       "      <td>ID897</td>\n",
       "      <td>A</td>\n",
       "      <td>2936.391349</td>\n",
       "      <td>429.038191</td>\n",
       "      <td>5503.612305</td>\n",
       "    </tr>\n",
       "    <tr>\n",
       "      <th>797</th>\n",
       "      <td>ID898</td>\n",
       "      <td>B</td>\n",
       "      <td>2358.714462</td>\n",
       "      <td>402.774189</td>\n",
       "      <td>5014.614749</td>\n",
       "    </tr>\n",
       "    <tr>\n",
       "      <th>798</th>\n",
       "      <td>ID899</td>\n",
       "      <td>B</td>\n",
       "      <td>2650.914292</td>\n",
       "      <td>378.228709</td>\n",
       "      <td>5019.014494</td>\n",
       "    </tr>\n",
       "    <tr>\n",
       "      <th>799</th>\n",
       "      <td>ID900</td>\n",
       "      <td>A</td>\n",
       "      <td>2139.561066</td>\n",
       "      <td>395.233912</td>\n",
       "      <td>5506.076951</td>\n",
       "    </tr>\n",
       "  </tbody>\n",
       "</table>\n",
       "<p>800 rows × 5 columns</p>\n",
       "</div>"
      ],
      "text/plain": [
       "        ID Group    Feature_1   Feature_2    Feature_3\n",
       "0    ID101     B  2932.671943  413.545585  5003.631701\n",
       "1    ID102     A  2760.145818  393.654844  5499.932422\n",
       "2    ID103     A  2392.765598  378.059694  5499.940383\n",
       "3    ID104     B  2725.989116  398.327623  5012.666309\n",
       "4    ID105     B  2652.696728  401.211878  5010.972291\n",
       "..     ...   ...          ...         ...          ...\n",
       "795  ID896     C  2426.627326  385.608965 -2087.511540\n",
       "796  ID897     A  2936.391349  429.038191  5503.612305\n",
       "797  ID898     B  2358.714462  402.774189  5014.614749\n",
       "798  ID899     B  2650.914292  378.228709  5019.014494\n",
       "799  ID900     A  2139.561066  395.233912  5506.076951\n",
       "\n",
       "[800 rows x 5 columns]"
      ]
     },
     "execution_count": 13,
     "metadata": {},
     "output_type": "execute_result"
    }
   ],
   "source": [
    "df = df.drop(['Formula'], axis=1)\n",
    "df"
   ]
  },
  {
   "cell_type": "markdown",
   "id": "b6bb44cc",
   "metadata": {},
   "source": [
    "## Q2"
   ]
  },
  {
   "cell_type": "markdown",
   "id": "06083d14",
   "metadata": {},
   "source": [
    "a - Based on the theoretical distribution of Feature_1, how many samples do you expect to find where the value of the feature is greater than 3000?"
   ]
  },
  {
   "cell_type": "code",
   "execution_count": 14,
   "id": "9fe093b6",
   "metadata": {},
   "outputs": [
    {
     "data": {
      "text/plain": [
       "0.047790352272814696"
      ]
     },
     "execution_count": 14,
     "metadata": {},
     "output_type": "execute_result"
    }
   ],
   "source": [
    "p = stats.norm.cdf(3000, loc = 2500, scale = 300)\n",
    "1-p"
   ]
  },
  {
   "cell_type": "code",
   "execution_count": 15,
   "id": "b3811623",
   "metadata": {},
   "outputs": [
    {
     "data": {
      "text/plain": [
       "38.0"
      ]
     },
     "execution_count": 15,
     "metadata": {},
     "output_type": "execute_result"
    }
   ],
   "source": [
    "np.round((1-p) * 800)"
   ]
  },
  {
   "cell_type": "markdown",
   "id": "99e7f974",
   "metadata": {},
   "source": [
    "b - How many samples did you actually find where Feature_1 is greater than 3000?"
   ]
  },
  {
   "cell_type": "code",
   "execution_count": 16,
   "id": "e8dc0fe9",
   "metadata": {},
   "outputs": [
    {
     "data": {
      "text/plain": [
       "36"
      ]
     },
     "execution_count": 16,
     "metadata": {},
     "output_type": "execute_result"
    }
   ],
   "source": [
    "df[df['Feature_1'] > 3000].shape[0]"
   ]
  },
  {
   "cell_type": "markdown",
   "id": "a47e965a",
   "metadata": {},
   "source": [
    "c - Group the dataset by the Group field and compute the mean and standard deviation of Feature_3 within each group."
   ]
  },
  {
   "cell_type": "code",
   "execution_count": 17,
   "id": "de7e0d6c",
   "metadata": {},
   "outputs": [
    {
     "data": {
      "text/html": [
       "<div>\n",
       "<style scoped>\n",
       "    .dataframe tbody tr th:only-of-type {\n",
       "        vertical-align: middle;\n",
       "    }\n",
       "\n",
       "    .dataframe tbody tr th {\n",
       "        vertical-align: top;\n",
       "    }\n",
       "\n",
       "    .dataframe thead tr th {\n",
       "        text-align: left;\n",
       "    }\n",
       "\n",
       "    .dataframe thead tr:last-of-type th {\n",
       "        text-align: right;\n",
       "    }\n",
       "</style>\n",
       "<table border=\"1\" class=\"dataframe\">\n",
       "  <thead>\n",
       "    <tr>\n",
       "      <th></th>\n",
       "      <th colspan=\"2\" halign=\"left\">Feature_3</th>\n",
       "    </tr>\n",
       "    <tr>\n",
       "      <th></th>\n",
       "      <th>mean</th>\n",
       "      <th>std</th>\n",
       "    </tr>\n",
       "    <tr>\n",
       "      <th>Group</th>\n",
       "      <th></th>\n",
       "      <th></th>\n",
       "    </tr>\n",
       "  </thead>\n",
       "  <tbody>\n",
       "    <tr>\n",
       "      <th>A</th>\n",
       "      <td>5499.495594</td>\n",
       "      <td>12.218756</td>\n",
       "    </tr>\n",
       "    <tr>\n",
       "      <th>B</th>\n",
       "      <td>5000.840698</td>\n",
       "      <td>11.878250</td>\n",
       "    </tr>\n",
       "    <tr>\n",
       "      <th>C</th>\n",
       "      <td>-2100.071017</td>\n",
       "      <td>11.571894</td>\n",
       "    </tr>\n",
       "  </tbody>\n",
       "</table>\n",
       "</div>"
      ],
      "text/plain": [
       "         Feature_3           \n",
       "              mean        std\n",
       "Group                        \n",
       "A      5499.495594  12.218756\n",
       "B      5000.840698  11.878250\n",
       "C     -2100.071017  11.571894"
      ]
     },
     "execution_count": 17,
     "metadata": {},
     "output_type": "execute_result"
    }
   ],
   "source": [
    "df.groupby('Group').agg({'Feature_3':['mean','std']})"
   ]
  },
  {
   "cell_type": "markdown",
   "id": "a2dca40f",
   "metadata": {},
   "source": [
    "## Q3\n",
    "\n",
    "Make a scatterplot of Feature_3 vs Feature_1."
   ]
  },
  {
   "cell_type": "code",
   "execution_count": 18,
   "id": "d726b461",
   "metadata": {
    "scrolled": true
   },
   "outputs": [
    {
     "data": {
      "text/plain": [
       "<Axes: xlabel='Feature_3', ylabel='Feature_1'>"
      ]
     },
     "execution_count": 18,
     "metadata": {},
     "output_type": "execute_result"
    },
    {
     "data": {
      "image/png": "[encoded data removed]",
      "text/plain": [
       "<Figure size 640x480 with 1 Axes>"
      ]
     },
     "metadata": {},
     "output_type": "display_data"
    }
   ],
   "source": [
    "sns.scatterplot(data = df, x = \"Feature_3\", y = \"Feature_1\")"
   ]
  },
  {
   "cell_type": "code",
   "execution_count": 19,
   "id": "df16529f",
   "metadata": {},
   "outputs": [],
   "source": [
    "df.to_csv('fake_data.csv')"
   ]
  }
 ],
 "metadata": {
  "kernelspec": {
   "display_name": "Python 3 (ipykernel)",
   "language": "python",
   "name": "python3"
  },
  "language_info": {
   "codemirror_mode": {
    "name": "ipython",
    "version": 3
   },
   "file_extension": ".py",
   "mimetype": "text/x-python",
   "name": "python",
   "nbconvert_exporter": "python",
   "pygments_lexer": "ipython3",
   "version": "3.11.4"
  }
 },
 "nbformat": 4,
 "nbformat_minor": 5
}
