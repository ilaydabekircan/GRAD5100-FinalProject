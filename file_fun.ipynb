{
 "cells": [
  {
   "cell_type": "markdown",
   "id": "cb616f5f",
   "metadata": {},
   "source": [
    "## GRAD 5100 - Introduction to Data Science\n",
    "\n",
    "### Final Project - Part 2\n",
    "\n",
    "#### Ilayda Bekircan"
   ]
  },
  {
   "cell_type": "markdown",
   "id": "31f29d81",
   "metadata": {},
   "source": [
    "### Q1"
   ]
  },
  {
   "cell_type": "code",
   "execution_count": 1,
   "id": "f547d7dc",
   "metadata": {},
   "outputs": [],
   "source": [
    "import numpy as np"
   ]
  },
  {
   "cell_type": "code",
   "execution_count": 2,
   "id": "f7ef509d",
   "metadata": {},
   "outputs": [],
   "source": [
    "def file_name(file):\n",
    "    string = file.split('_') \n",
    "    return string[1]+'.'+string[2]"
   ]
  },
  {
   "cell_type": "code",
   "execution_count": 3,
   "id": "a2425d73",
   "metadata": {},
   "outputs": [
    {
     "data": {
      "text/plain": [
       "'TRNPP.txt'"
      ]
     },
     "execution_count": 3,
     "metadata": {},
     "output_type": "execute_result"
    }
   ],
   "source": [
    "file_name('82542_TRNPP_txt')"
   ]
  },
  {
   "cell_type": "markdown",
   "id": "d477c238",
   "metadata": {},
   "source": [
    "### Q2"
   ]
  },
  {
   "cell_type": "code",
   "execution_count": 4,
   "id": "82c2a9f4",
   "metadata": {},
   "outputs": [],
   "source": [
    "with open('codes.txt', 'r') as txt:\n",
    "    data = txt.read().splitlines()"
   ]
  },
  {
   "cell_type": "code",
   "execution_count": 5,
   "id": "b7b5e096",
   "metadata": {},
   "outputs": [
    {
     "data": {
      "text/plain": [
       "['26167_ZCOPM_py',\n",
       " '69118_WREZP_py',\n",
       " '20278_BOCOV_txt',\n",
       " '82542_TRNPP_txt',\n",
       " '50874_PXFVT_py',\n",
       " '35059_NQLMN_py',\n",
       " '90941_JOIBU_txt',\n",
       " '82187_XAGTS_py',\n",
       " '95034_ICOSX_py',\n",
       " '67809_ORWMC_py',\n",
       " '15884_LRCWT_txt',\n",
       " '52853_JTANV_py',\n",
       " '35208_MTNKQ_py',\n",
       " '13430_SFUAN_txt',\n",
       " '75042_AINQQ_py',\n",
       " '88888_BRITJ_txt',\n",
       " '68403_CVVAW_txt',\n",
       " '79773_EEYIX_csv',\n",
       " '45290_YUPAG_txt',\n",
       " '49966_VVKWW_py',\n",
       " '32446_WDNBE_txt',\n",
       " '27279_RHAYN_py',\n",
       " '96674_OFDGE_txt',\n",
       " '82958_XSMJD_txt',\n",
       " '87282_ECXJA_csv',\n",
       " '95625_FFXUT_py',\n",
       " '55848_AHKAM_csv',\n",
       " '12492_OIJJU_txt',\n",
       " '69069_NJSBK_txt',\n",
       " '61477_GJPTS_csv',\n",
       " '77478_OAUWT_txt',\n",
       " '35568_JQNZU_csv',\n",
       " '14864_RNFVB_csv',\n",
       " '58085_APZTE_py',\n",
       " '16183_BUIAR_txt',\n",
       " '37903_GGHZL_txt',\n",
       " '87070_UYHCG_csv',\n",
       " '50233_GSRFM_txt',\n",
       " '25014_CGOHK_py',\n",
       " '76568_UEUTJ_csv',\n",
       " '51268_BXXNW_csv',\n",
       " '56163_YNOGN_txt',\n",
       " '74324_TTGSR_txt',\n",
       " '51104_DHACA_csv',\n",
       " '86220_XKLIA_csv',\n",
       " '75965_CDUFO_csv',\n",
       " '16279_LYRQF_txt',\n",
       " '95896_LZCWS_txt',\n",
       " '19975_KTWBT_txt',\n",
       " '31114_BCTOB_txt']"
      ]
     },
     "execution_count": 5,
     "metadata": {},
     "output_type": "execute_result"
    }
   ],
   "source": [
    "data"
   ]
  },
  {
   "cell_type": "code",
   "execution_count": 6,
   "id": "136804d2",
   "metadata": {},
   "outputs": [],
   "source": [
    "numbers = np.array([i.split('_') for i in data])"
   ]
  },
  {
   "cell_type": "code",
   "execution_count": 7,
   "id": "c74752f9",
   "metadata": {},
   "outputs": [],
   "source": [
    "for i in range(len(data)):\n",
    "    file = file_name(data[i])\n",
    "    with open(file,\"w\") as f:\n",
    "        f.write(numbers[i,0] + \"\\n\")"
   ]
  }
 ],
 "metadata": {
  "kernelspec": {
   "display_name": "Python 3 (ipykernel)",
   "language": "python",
   "name": "python3"
  },
  "language_info": {
   "codemirror_mode": {
    "name": "ipython",
    "version": 3
   },
   "file_extension": ".py",
   "mimetype": "text/x-python",
   "name": "python",
   "nbconvert_exporter": "python",
   "pygments_lexer": "ipython3",
   "version": "3.11.4"
  }
 },
 "nbformat": 4,
 "nbformat_minor": 5
}
